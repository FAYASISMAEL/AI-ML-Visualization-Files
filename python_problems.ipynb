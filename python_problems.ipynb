{
  "nbformat": 4,
  "nbformat_minor": 0,
  "metadata": {
    "colab": {
      "provenance": [],
      "authorship_tag": "ABX9TyOY/tkwPNW4FY87S6uB8gXN",
      "include_colab_link": true
    },
    "kernelspec": {
      "name": "python3",
      "display_name": "Python 3"
    },
    "language_info": {
      "name": "python"
    }
  },
  "cells": [
    {
      "cell_type": "markdown",
      "metadata": {
        "id": "view-in-github",
        "colab_type": "text"
      },
      "source": [
        "<a href=\"https://colab.research.google.com/github/FAYASISMAEL/AI-ML-Visualization-Files/blob/main/python_problems.ipynb\" target=\"_parent\"><img src=\"https://colab.research.google.com/assets/colab-badge.svg\" alt=\"Open In Colab\"/></a>"
      ]
    },
    {
      "cell_type": "markdown",
      "source": [
        "write a python program to count the frequency of each element in a list"
      ],
      "metadata": {
        "id": "H30FxYX_oi-6"
      }
    },
    {
      "cell_type": "code",
      "execution_count": null,
      "metadata": {
        "colab": {
          "base_uri": "https://localhost:8080/"
        },
        "id": "0OdRshC-ofP1",
        "outputId": "455d2331-263e-42a2-b39f-693568820746"
      },
      "outputs": [
        {
          "output_type": "stream",
          "name": "stdout",
          "text": [
            "Frequency of the number : \n",
            "10 : 3\n",
            "20 : 2\n",
            "40 : 2\n",
            "30 : 2\n",
            "50 : 1\n",
            "60 : 1\n"
          ]
        }
      ],
      "source": []
    },
    {
      "cell_type": "code",
      "source": [
        "my_list = [10,20,10,40,30,20,50,30,10,40,60]\n",
        "freq = {}\n",
        "\n",
        "for item in my_list:\n",
        "  if item in freq:\n",
        "    freq[item] += 1\n",
        "  else:\n",
        "    freq[item] = 1\n",
        "print(freq)"
      ],
      "metadata": {
        "colab": {
          "base_uri": "https://localhost:8080/"
        },
        "id": "a6j_o5D64BNc",
        "outputId": "aaf50bf3-c243-4997-d27b-f814e908578f"
      },
      "execution_count": null,
      "outputs": [
        {
          "output_type": "stream",
          "name": "stdout",
          "text": [
            "{10: 3, 20: 2, 40: 2, 30: 2, 50: 1, 60: 1}\n"
          ]
        }
      ]
    },
    {
      "cell_type": "markdown",
      "source": [
        "write a python program to find the factorial of a number"
      ],
      "metadata": {
        "id": "wnc8gkq3rlBZ"
      }
    },
    {
      "cell_type": "code",
      "source": [
        "num = int(input('Enter your value: '))\n",
        "fact = 1\n",
        "for i in range(1,num+1):\n",
        "  fact *= i\n",
        "print(fact)"
      ],
      "metadata": {
        "colab": {
          "base_uri": "https://localhost:8080/"
        },
        "id": "tjVINuX4rtER",
        "outputId": "00a6846e-bd71-4923-8509-b8fa0def321e"
      },
      "execution_count": null,
      "outputs": [
        {
          "output_type": "stream",
          "name": "stdout",
          "text": [
            "Enter your value: 5\n",
            "120\n"
          ]
        }
      ]
    },
    {
      "cell_type": "markdown",
      "source": [
        "write a python program to find the largest element in a list"
      ],
      "metadata": {
        "id": "cU70DdLFs69F"
      }
    },
    {
      "cell_type": "code",
      "source": [
        "list = [10,40,55,23,71,34,76,43]\n",
        "larg = max(list)\n",
        "print(larg)"
      ],
      "metadata": {
        "colab": {
          "base_uri": "https://localhost:8080/"
        },
        "id": "diAd7ONDtRGK",
        "outputId": "3a07a6fc-2a11-4082-ddfe-129183a6d66b"
      },
      "execution_count": null,
      "outputs": [
        {
          "output_type": "stream",
          "name": "stdout",
          "text": [
            "76\n"
          ]
        }
      ]
    },
    {
      "cell_type": "code",
      "source": [
        "list = [10,40,55,23,71,34,76,43]\n",
        "larg = list[0]\n",
        "for val in list:\n",
        "  if val > larg:\n",
        "    larg = val\n",
        "print(larg)"
      ],
      "metadata": {
        "colab": {
          "base_uri": "https://localhost:8080/"
        },
        "id": "mzvFbubOuUBB",
        "outputId": "8251d2d2-8824-4547-8c3f-472f7154986e"
      },
      "execution_count": null,
      "outputs": [
        {
          "output_type": "stream",
          "name": "stdout",
          "text": [
            "76\n"
          ]
        }
      ]
    },
    {
      "cell_type": "markdown",
      "source": [
        "write a python program to find the second largest number in a list"
      ],
      "metadata": {
        "id": "jOvbLSRbuqYw"
      }
    },
    {
      "cell_type": "code",
      "source": [
        "new_list = [10,40,55,23,71,34,76,71,43]\n",
        "first = second = new_list[0]\n",
        "for item in new_list:\n",
        "  if item > first:\n",
        "    second = first\n",
        "    first = item\n",
        "    if item > second and item != first:\n",
        "      second = item\n",
        "\n",
        "print(second)"
      ],
      "metadata": {
        "colab": {
          "base_uri": "https://localhost:8080/"
        },
        "id": "Que3GGD_uxnq",
        "outputId": "7002b9fe-58af-4a50-e1c6-8476c059ecde"
      },
      "execution_count": null,
      "outputs": [
        {
          "output_type": "stream",
          "name": "stdout",
          "text": [
            "71\n"
          ]
        }
      ]
    },
    {
      "cell_type": "markdown",
      "source": [
        "write a python program to find the common elements between two list"
      ],
      "metadata": {
        "id": "mS4a7ziWyKt0"
      }
    },
    {
      "cell_type": "code",
      "source": [
        "# list1 = [9,1,8,2,7]\n",
        "# list2 = [3,6,4,5,8]\n",
        "# common = list(set(list1) & set(list2))\n",
        "# print(common)"
      ],
      "metadata": {
        "colab": {
          "base_uri": "https://localhost:8080/",
          "height": 193
        },
        "id": "R-4xhaXHywz1",
        "outputId": "b52b3d62-363c-4ac0-91fd-71eb9e3a8df6"
      },
      "execution_count": null,
      "outputs": [
        {
          "output_type": "error",
          "ename": "TypeError",
          "evalue": "'list' object is not callable",
          "traceback": [
            "\u001b[0;31m---------------------------------------------------------------------------\u001b[0m",
            "\u001b[0;31mTypeError\u001b[0m                                 Traceback (most recent call last)",
            "\u001b[0;32m/tmp/ipython-input-1314776112.py\u001b[0m in \u001b[0;36m<cell line: 0>\u001b[0;34m()\u001b[0m\n\u001b[1;32m      1\u001b[0m \u001b[0mlist1\u001b[0m \u001b[0;34m=\u001b[0m \u001b[0;34m[\u001b[0m\u001b[0;36m9\u001b[0m\u001b[0;34m,\u001b[0m\u001b[0;36m1\u001b[0m\u001b[0;34m,\u001b[0m\u001b[0;36m8\u001b[0m\u001b[0;34m,\u001b[0m\u001b[0;36m2\u001b[0m\u001b[0;34m,\u001b[0m\u001b[0;36m7\u001b[0m\u001b[0;34m]\u001b[0m\u001b[0;34m\u001b[0m\u001b[0;34m\u001b[0m\u001b[0m\n\u001b[1;32m      2\u001b[0m \u001b[0mlist2\u001b[0m \u001b[0;34m=\u001b[0m \u001b[0;34m[\u001b[0m\u001b[0;36m3\u001b[0m\u001b[0;34m,\u001b[0m\u001b[0;36m6\u001b[0m\u001b[0;34m,\u001b[0m\u001b[0;36m4\u001b[0m\u001b[0;34m,\u001b[0m\u001b[0;36m5\u001b[0m\u001b[0;34m,\u001b[0m\u001b[0;36m8\u001b[0m\u001b[0;34m]\u001b[0m\u001b[0;34m\u001b[0m\u001b[0;34m\u001b[0m\u001b[0m\n\u001b[0;32m----> 3\u001b[0;31m \u001b[0mcommon\u001b[0m \u001b[0;34m=\u001b[0m \u001b[0mlist\u001b[0m\u001b[0;34m(\u001b[0m\u001b[0mset\u001b[0m\u001b[0;34m(\u001b[0m\u001b[0mlist1\u001b[0m\u001b[0;34m)\u001b[0m \u001b[0;34m&\u001b[0m \u001b[0mset\u001b[0m\u001b[0;34m(\u001b[0m\u001b[0mlist2\u001b[0m\u001b[0;34m)\u001b[0m\u001b[0;34m)\u001b[0m\u001b[0;34m\u001b[0m\u001b[0;34m\u001b[0m\u001b[0m\n\u001b[0m\u001b[1;32m      4\u001b[0m \u001b[0mprint\u001b[0m\u001b[0;34m(\u001b[0m\u001b[0mcommon\u001b[0m\u001b[0;34m)\u001b[0m\u001b[0;34m\u001b[0m\u001b[0;34m\u001b[0m\u001b[0m\n",
            "\u001b[0;31mTypeError\u001b[0m: 'list' object is not callable"
          ]
        }
      ]
    },
    {
      "cell_type": "markdown",
      "source": [
        "write a python program to remove duplicates from a list"
      ],
      "metadata": {
        "id": "USeOFiAr1qjN"
      }
    },
    {
      "cell_type": "code",
      "source": [
        "my_list = [1,2,3,1,4,2,3]\n",
        "res = []\n",
        "for val in my_list:\n",
        "  if val not in res:\n",
        "    res.append(val)\n",
        "print(res)"
      ],
      "metadata": {
        "colab": {
          "base_uri": "https://localhost:8080/"
        },
        "id": "MbSVU8aW1x8o",
        "outputId": "cf71f06b-31b1-42d6-c80f-509b09870a50"
      },
      "execution_count": null,
      "outputs": [
        {
          "output_type": "stream",
          "name": "stdout",
          "text": [
            "[1, 2, 3, 4]\n"
          ]
        }
      ]
    },
    {
      "cell_type": "markdown",
      "source": [],
      "metadata": {
        "id": "44F9s0lP2_7g"
      }
    }
  ]
}