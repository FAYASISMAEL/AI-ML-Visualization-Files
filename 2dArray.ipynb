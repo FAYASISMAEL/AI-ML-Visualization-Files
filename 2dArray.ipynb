{
  "nbformat": 4,
  "nbformat_minor": 0,
  "metadata": {
    "colab": {
      "provenance": [],
      "authorship_tag": "ABX9TyM8eWKDJyVzT74DcQquA5I4",
      "include_colab_link": true
    },
    "kernelspec": {
      "name": "python3",
      "display_name": "Python 3"
    },
    "language_info": {
      "name": "python"
    }
  },
  "cells": [
    {
      "cell_type": "markdown",
      "metadata": {
        "id": "view-in-github",
        "colab_type": "text"
      },
      "source": [
        "<a href=\"https://colab.research.google.com/github/FAYASISMAEL/AI-ML-Visualization-Files/blob/main/2dArray.ipynb\" target=\"_parent\"><img src=\"https://colab.research.google.com/assets/colab-badge.svg\" alt=\"Open In Colab\"/></a>"
      ]
    },
    {
      "cell_type": "markdown",
      "source": [
        "Write a program which will find all such numbers which are divisible by 7 but are not a multiple of 5, between 2000 and 3200 (both included). The numbers obtained should be printed in a comma-separated sequence on a single line."
      ],
      "metadata": {
        "id": "UW5yrRHF7EYX"
      }
    },
    {
      "cell_type": "code",
      "execution_count": null,
      "metadata": {
        "colab": {
          "base_uri": "https://localhost:8080/"
        },
        "id": "vLJTIrb_7BmZ",
        "outputId": "78bfc05e-2ba8-400e-9648-7a3a1de5da41"
      },
      "outputs": [
        {
          "output_type": "stream",
          "name": "stdout",
          "text": [
            "2002,2009,2016,2023,2037,2044,2051,2058,2072,2079,2086,2093,2107,2114,2121,2128,2142,2149,2156,2163,2177,2184,2191,2198,2212,2219,2226,2233,2247,2254,2261,2268,2282,2289,2296,2303,2317,2324,2331,2338,2352,2359,2366,2373,2387,2394,2401,2408,2422,2429,2436,2443,2457,2464,2471,2478,2492,2499,2506,2513,2527,2534,2541,2548,2562,2569,2576,2583,2597,2604,2611,2618,2632,2639,2646,2653,2667,2674,2681,2688,2702,2709,2716,2723,2737,2744,2751,2758,2772,2779,2786,2793,2807,2814,2821,2828,2842,2849,2856,2863,2877,2884,2891,2898,2912,2919,2926,2933,2947,2954,2961,2968,2982,2989,2996,3003,3017,3024,3031,3038,3052,3059,3066,3073,3087,3094,3101,3108,3122,3129,3136,3143,3157,3164,3171,3178,3192,3199,"
          ]
        }
      ],
      "source": [
        "result = []\n",
        "for number in range(2000,3200):\n",
        "  if number % 7 == 0 and number % 5 != 0:\n",
        "    print(number, end = ',')"
      ]
    },
    {
      "cell_type": "markdown",
      "source": [
        "Write a program which takes 2 digits, X,Y as input and generates a 2-dimensional array. The element value in the i-th row and j-th column of the array should be i*j.\n",
        "\n",
        "Note: i=0,1.., X-1; j=0,1,¡­Y-1.\n",
        "\n",
        "Example\n",
        "\n",
        "Suppose the following inputs are given to the program: 3,5\n",
        "Then, the output of the program should be:\n",
        "\n",
        "[0, 0, 0, 0, 0],\n",
        "[0, 1, 2, 3, 4],\n",
        "[0, 2, 4, 6, 8]\n"
      ],
      "metadata": {
        "id": "CH3zZXl0--l2"
      }
    },
    {
      "cell_type": "code",
      "source": [
        "x = int(input('Enter the Row numbers : '))\n",
        "y = int(input('Enter the columns numbers : '))\n",
        "\n",
        "matrix = []\n",
        "\n",
        "for i in range(x):\n",
        "  arr = []\n",
        "  for j in range(y):\n",
        "    arr.append(i*j)\n",
        "  matrix.append(arr)\n",
        "\n",
        "# for i in range(x):\n",
        "#   for i in range(y):\n",
        "#     print(matrix[i][j], end = '')\n",
        "print(matrix)"
      ],
      "metadata": {
        "colab": {
          "base_uri": "https://localhost:8080/"
        },
        "id": "mnWSutep_El6",
        "outputId": "67274b0f-e8ae-4947-daba-99c2ccc54902"
      },
      "execution_count": null,
      "outputs": [
        {
          "output_type": "stream",
          "name": "stdout",
          "text": [
            "Enter the Row numbers : 3\n",
            "Enter the columns numbers : 5\n",
            "[[0, 0, 0, 0, 0], [0, 1, 2, 3, 4], [0, 2, 4, 6, 8]]\n"
          ]
        }
      ]
    }
  ]
}