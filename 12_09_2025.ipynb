{
  "nbformat": 4,
  "nbformat_minor": 0,
  "metadata": {
    "colab": {
      "provenance": [],
      "authorship_tag": "ABX9TyM+7VQFzUCXAwxuBIKMVmba",
      "include_colab_link": true
    },
    "kernelspec": {
      "name": "python3",
      "display_name": "Python 3"
    },
    "language_info": {
      "name": "python"
    }
  },
  "cells": [
    {
      "cell_type": "markdown",
      "metadata": {
        "id": "view-in-github",
        "colab_type": "text"
      },
      "source": [
        "<a href=\"https://colab.research.google.com/github/FAYASISMAEL/AI-ML-Visualization-Files/blob/main/12_09_2025.ipynb\" target=\"_parent\"><img src=\"https://colab.research.google.com/assets/colab-badge.svg\" alt=\"Open In Colab\"/></a>"
      ]
    },
    {
      "cell_type": "markdown",
      "source": [
        "1. Write a program that takes a list of numbers and counts the frequency of each number without using collections. Counter."
      ],
      "metadata": {
        "id": "wK6eKo_ZxFIh"
      }
    },
    {
      "cell_type": "code",
      "source": [
        "freq = [1,2,2,3,3,3,4,4,4,4,5,5,5,5,5]\n",
        "a = {}\n",
        "for b in freq:\n",
        "  if b in a:\n",
        "    a[b] += 1\n",
        "  else:\n",
        "    a[b] = 1\n",
        "print(a)"
      ],
      "metadata": {
        "colab": {
          "base_uri": "https://localhost:8080/"
        },
        "id": "Rwbx26srxBoX",
        "outputId": "48520dc8-a68d-46b9-f65c-5a5778e28f3a"
      },
      "execution_count": null,
      "outputs": [
        {
          "output_type": "stream",
          "name": "stdout",
          "text": [
            "{1: 1, 2: 2, 3: 3, 4: 4, 5: 5}\n"
          ]
        }
      ]
    },
    {
      "cell_type": "code",
      "source": [],
      "metadata": {
        "id": "OHLK4pIk0riW"
      },
      "execution_count": null,
      "outputs": []
    },
    {
      "cell_type": "markdown",
      "source": [
        "2. Write a function to check if a string is a palindrome (reads the same forwards and backwards)"
      ],
      "metadata": {
        "id": "YajLFN9jxz-N"
      }
    },
    {
      "cell_type": "code",
      "source": [
        "palin = input('Enter your name : ')\n",
        "i, j=0, len(palin) - 1\n",
        "is_palindrome = True\n",
        "while i < j:\n",
        "  if palin[i] != palin[j]:\n",
        "    is_palindrome = False\n",
        "    break\n",
        "  i += 1\n",
        "  i -= 1\n",
        "if is_palindrome:\n",
        "  print('Yes')\n",
        "else:\n",
        "  print('No')"
      ],
      "metadata": {
        "colab": {
          "base_uri": "https://localhost:8080/",
          "height": 228
        },
        "id": "euLn30O4yA_r",
        "outputId": "9e9f4b08-c8d4-49d5-cbb0-63a317ac806e"
      },
      "execution_count": null,
      "outputs": [
        {
          "name": "stdout",
          "output_type": "stream",
          "text": [
            "Enter your name : malayalam\n"
          ]
        },
        {
          "output_type": "error",
          "ename": "KeyboardInterrupt",
          "evalue": "",
          "traceback": [
            "\u001b[0;31m---------------------------------------------------------------------------\u001b[0m",
            "\u001b[0;31mKeyboardInterrupt\u001b[0m                         Traceback (most recent call last)",
            "\u001b[0;32m/tmp/ipython-input-1899327283.py\u001b[0m in \u001b[0;36m<cell line: 0>\u001b[0;34m()\u001b[0m\n\u001b[1;32m      2\u001b[0m \u001b[0mi\u001b[0m\u001b[0;34m,\u001b[0m \u001b[0mj\u001b[0m\u001b[0;34m=\u001b[0m\u001b[0;36m0\u001b[0m\u001b[0;34m,\u001b[0m \u001b[0mlen\u001b[0m\u001b[0;34m(\u001b[0m\u001b[0mpalin\u001b[0m\u001b[0;34m)\u001b[0m \u001b[0;34m-\u001b[0m \u001b[0;36m1\u001b[0m\u001b[0;34m\u001b[0m\u001b[0;34m\u001b[0m\u001b[0m\n\u001b[1;32m      3\u001b[0m \u001b[0mis_palindrome\u001b[0m \u001b[0;34m=\u001b[0m \u001b[0;32mTrue\u001b[0m\u001b[0;34m\u001b[0m\u001b[0;34m\u001b[0m\u001b[0m\n\u001b[0;32m----> 4\u001b[0;31m \u001b[0;32mwhile\u001b[0m \u001b[0mi\u001b[0m \u001b[0;34m<\u001b[0m \u001b[0mj\u001b[0m\u001b[0;34m:\u001b[0m\u001b[0;34m\u001b[0m\u001b[0;34m\u001b[0m\u001b[0m\n\u001b[0m\u001b[1;32m      5\u001b[0m   \u001b[0;32mif\u001b[0m \u001b[0mpalin\u001b[0m\u001b[0;34m[\u001b[0m\u001b[0mi\u001b[0m\u001b[0;34m]\u001b[0m \u001b[0;34m!=\u001b[0m \u001b[0mpalin\u001b[0m\u001b[0;34m[\u001b[0m\u001b[0mj\u001b[0m\u001b[0;34m]\u001b[0m\u001b[0;34m:\u001b[0m\u001b[0;34m\u001b[0m\u001b[0;34m\u001b[0m\u001b[0m\n\u001b[1;32m      6\u001b[0m     \u001b[0mis_palindrome\u001b[0m \u001b[0;34m=\u001b[0m \u001b[0;32mFalse\u001b[0m\u001b[0;34m\u001b[0m\u001b[0;34m\u001b[0m\u001b[0m\n",
            "\u001b[0;31mKeyboardInterrupt\u001b[0m: "
          ]
        }
      ]
    },
    {
      "cell_type": "markdown",
      "source": [
        "3. Write a program to find the factorial of a number using a while loop instead of recursion"
      ],
      "metadata": {
        "id": "YX6wR7CszKY-"
      }
    },
    {
      "cell_type": "code",
      "source": [
        "num = input('Enter a number: ')\n",
        "fact = 1\n",
        "i = 1\n",
        "while i <= num:\n",
        "    fact = fact * i\n",
        "    i = i + 1\n",
        "print(fact)"
      ],
      "metadata": {
        "colab": {
          "base_uri": "https://localhost:8080/"
        },
        "id": "5i_LICiszRaK",
        "outputId": "2a27ab2a-2300-4316-83d0-1ebc2b663f04"
      },
      "execution_count": null,
      "outputs": [
        {
          "output_type": "stream",
          "name": "stdout",
          "text": [
            "Enter a number: 5\n",
            "120\n"
          ]
        }
      ]
    },
    {
      "cell_type": "markdown",
      "source": [
        "4. Write a program that takes a sentence from the user and counts how many times each word appears."
      ],
      "metadata": {
        "id": "eBkiJNVQ1Kkn"
      }
    },
    {
      "cell_type": "code",
      "source": [
        "sent = input('Enter you line : ')\n",
        "words = sent.lower().split()\n",
        "word_count = {}\n",
        "for word in words:\n",
        "    if word in word_count:\n",
        "        word_count[word] += 1\n",
        "    else:\n",
        "        word_count[word] = 1\n",
        "for word, count in word_count.items():\n",
        "    print(word, ':', count)"
      ],
      "metadata": {
        "colab": {
          "base_uri": "https://localhost:8080/"
        },
        "id": "OUg4koOi1ZIn",
        "outputId": "d064bd09-9773-4d11-8e1f-a1d11967381b"
      },
      "execution_count": null,
      "outputs": [
        {
          "output_type": "stream",
          "name": "stdout",
          "text": [
            "Enter you line : Hey I'm Fayas Ismael\n",
            "Word frequencies:\n",
            "hey : 1\n",
            "i'm : 1\n",
            "fayas : 1\n",
            "ismael : 1\n"
          ]
        }
      ]
    },
    {
      "cell_type": "markdown",
      "source": [
        "5. Write a Python program to transpose a matrix without using NumPy."
      ],
      "metadata": {
        "id": "2UB8Z9GU16hB"
      }
    },
    {
      "cell_type": "code",
      "source": [
        "matrix = [\n",
        "    [1, 2, 3],\n",
        "    [4, 5, 6]\n",
        "]\n",
        "rows = len(matrix)\n",
        "cols = len(matrix[0])\n",
        "transposed = [[0 for _ in range(rows)] for _ in range(cols)]\n",
        "for i in range(rows):\n",
        "    for j in range(cols):\n",
        "        transposed[j][i] = matrix[i][j]\n",
        "print('\\nTransposed Matrix : ')\n",
        "for row in transposed:\n",
        "    print(row)"
      ],
      "metadata": {
        "colab": {
          "base_uri": "https://localhost:8080/"
        },
        "id": "I2wnMVbA2BQ4",
        "outputId": "da3c82f5-1d18-484f-e02e-fe91f0688498"
      },
      "execution_count": null,
      "outputs": [
        {
          "output_type": "stream",
          "name": "stdout",
          "text": [
            "\n",
            "Transposed Matrix : \n",
            "[1, 4]\n",
            "[2, 5]\n",
            "[3, 6]\n"
          ]
        }
      ]
    }
  ]
}